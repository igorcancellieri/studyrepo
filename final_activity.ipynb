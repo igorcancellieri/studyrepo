{
  "metadata": {
    "language_info": {
      "codemirror_mode": {
        "name": "python",
        "version": 3
      },
      "file_extension": ".py",
      "mimetype": "text/x-python",
      "name": "python",
      "nbconvert_exporter": "python",
      "pygments_lexer": "ipython3",
      "version": "3.8"
    },
    "kernelspec": {
      "name": "python",
      "display_name": "Python (Pyodide)",
      "language": "python"
    }
  },
  "nbformat_minor": 4,
  "nbformat": 4,
  "cells": [
    {
      "cell_type": "markdown",
      "source": "# My Jupyter Notebook on IBM Watson Studio ",
      "metadata": {}
    },
    {
      "cell_type": "markdown",
      "source": "## Igor Charaba\nchemical engineer",
      "metadata": {}
    },
    {
      "cell_type": "markdown",
      "source": "*I am interested in data science because i aim to work in motorsports, and data science will help me build optimization models*",
      "metadata": {}
    },
    {
      "cell_type": "markdown",
      "source": "### My code shows a small sentence and it will calculate a sum",
      "metadata": {}
    },
    {
      "cell_type": "code",
      "source": "print(\"hello my friend, i will calculate a sum\")\nsum = 1+1\nprint(sum)",
      "metadata": {
        "trusted": true
      },
      "execution_count": 2,
      "outputs": [
        {
          "name": "stdout",
          "text": "hello my friend, i will calculate a sum\n2\n",
          "output_type": "stream"
        }
      ]
    },
    {
      "cell_type": "markdown",
      "source": "<p>I really like using Markdown.</p>\n\n[![a little dog](/assets/images/shiprock.jpg \"Shiprock, New Mexico by Beau Rogers\")](https://www.google.com/url?sa=i&url=https%3A%2F%2Fwww.southernliving.com%2Fculture%2Fpets%2Fsmall-dog-breeds&psig=AOvVaw1BoCLmUyIUJLDGNkft5i2Q&ust=1677896569556000&source=images&cd=vfe&ved=0CBAQjRxqFwoTCKDFv-fTvv0CFQAAAAAdAAAAABAJ)\n\n|colum1|colum2|\n---------------\n|line1 |line2|",
      "metadata": {}
    },
    {
      "cell_type": "code",
      "source": "",
      "metadata": {},
      "execution_count": null,
      "outputs": []
    }
  ]
}